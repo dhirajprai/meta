{
 "cells": [
  {
   "cell_type": "code",
   "execution_count": 30,
   "metadata": {},
   "outputs": [],
   "source": [
    "import math\n",
    "import numpy as np\n",
    "import random\n",
    "import pandas as pd"
   ]
  },
  {
   "cell_type": "code",
   "execution_count": 31,
   "metadata": {},
   "outputs": [],
   "source": [
    "def myobj(p1):\n",
    "    F=[]\n",
    "    for i in range (len(p1)):\n",
    "        x=p1.loc[i]\n",
    "        f=(((x[0]**2)+x[1]-11)**2)+((x[0]+x[1]**2)-7)**2\n",
    "        F.append(f)\n",
    "    return F"
   ]
  },
  {
   "cell_type": "code",
   "execution_count": 32,
   "metadata": {},
   "outputs": [],
   "source": [
    "pop_size = 25\n",
    "Gen = 1000\n",
    "lb=[-5,-5]\n",
    "ub=[5,5]"
   ]
  },
  {
   "cell_type": "code",
   "execution_count": 44,
   "metadata": {},
   "outputs": [],
   "source": [
    "def initialpopulation(mini,maxi,pop_size):\n",
    "    pop=[]        \n",
    "    for i in range(pop_size):\n",
    "        p=[]        \n",
    "        for a,b in zip(mini,maxi):\n",
    "            p.append(a + (b-a) * random.random())\n",
    "        pop.append(p)    \n",
    "    ini_pop=pd.DataFrame(pop)        \n",
    "    return ini_pop"
   ]
  },
  {
   "cell_type": "code",
   "execution_count": 34,
   "metadata": {},
   "outputs": [],
   "source": [
    "def updatepopulation(p1,dim):      \n",
    "    best_x=np.array(p1.loc[p1['f'].idxmin][0:dim])    \n",
    "    worst_x=np.array(p1.loc[p1['f'].idxmax][0:dim])\n",
    "    new_x=[]\n",
    "    for i in range(len(p1)):\n",
    "        old_x=np.array(p1.loc[i][0:dim])           \n",
    "        r1=np.random.random(dim)\n",
    "        r2=np.random.random(dim)\n",
    "        new_x.append(old_x+r1*(best_x-abs(old_x))-r2*(worst_x-abs(old_x)))    \n",
    "    new_p1=pd.DataFrame(new_x)    \n",
    "    return new_p1"
   ]
  },
  {
   "cell_type": "code",
   "execution_count": 35,
   "metadata": {},
   "outputs": [],
   "source": [
    "def greedyselector(p1,new_p1):    \n",
    "    for i in range(len(p1)):        \n",
    "        if p1.loc[i]['f']>new_p1.loc[i]['f']:                 \n",
    "            p1.loc[i]=new_p1.loc[i]    \n",
    "    return p1"
   ]
  },
  {
   "cell_type": "code",
   "execution_count": 36,
   "metadata": {},
   "outputs": [],
   "source": [
    "def trimr(new_p1,lb,ub):    \n",
    "    col=new_p1.columns.values    \n",
    "    for i in range(len(new_p1)):        \n",
    "        for j in range(len(col)):            \n",
    "            if new_p1.loc[i][j]>ub[j]:                \n",
    "                  new_p1.loc[i][j]=ub[j]            \n",
    "            elif new_p1.loc[i][j]<lb[j]:                          \n",
    "                  new_p1.loc[i][j]=lb[j]    \n",
    "    return new_p1"
   ]
  },
  {
   "cell_type": "code",
   "execution_count": 37,
   "metadata": {},
   "outputs": [],
   "source": [
    "def jaya(*argv):\n",
    "    pop_size, Gen, mini, maxi= argv\n",
    "    lb=np.array(mini)\n",
    "    ub=np.array(maxi)\n",
    "    p1=initialpopulation(lb,ub,pop_size)\n",
    "    p1['f']=myobj(p1)\n",
    "    \n",
    "    dim=len(lb)\n",
    "    gen=0\n",
    "    best=[]\n",
    "    while (gen<Gen):\n",
    "        new_p1=updatepopulation(p1,dim)\n",
    "        new_p1=trimr(new_p1,lb,ub)\n",
    "        new_p1['f']=myobj(new_p1)\n",
    "        p1=greedyselector(p1,new_p1)\n",
    "        gen=gen+1\n",
    "    #     print(gen)\n",
    "        best=p1['f'].min()\n",
    "        xbest=p1.loc[p1['f'].idxmin()][0:dim].tolist()\n",
    "#     print('Best={}'.format(best))\n",
    "#     print('xbest={}'.format(xbest))\n",
    "    return best,xbest"
   ]
  },
  {
   "cell_type": "code",
   "execution_count": 46,
   "metadata": {},
   "outputs": [
    {
     "name": "stdout",
     "output_type": "stream",
     "text": [
      "The objective function value = 5.114584243932044e-05\n",
      "The optimum values of variables = [3.583597421704084, -1.846899467583694]\n"
     ]
    }
   ],
   "source": [
    "best,xbest = jaya(pop_size, Gen, lb, ub)\n",
    "print('The objective function value = {}'.format(best))\n",
    "print('The optimum values of variables = {}'.format(xbest))"
   ]
  },
  {
   "cell_type": "code",
   "execution_count": null,
   "metadata": {},
   "outputs": [],
   "source": []
  }
 ],
 "metadata": {
  "kernelspec": {
   "display_name": "Python 3",
   "language": "python",
   "name": "python3"
  },
  "language_info": {
   "codemirror_mode": {
    "name": "ipython",
    "version": 3
   },
   "file_extension": ".py",
   "mimetype": "text/x-python",
   "name": "python",
   "nbconvert_exporter": "python",
   "pygments_lexer": "ipython3",
   "version": "3.6.5"
  }
 },
 "nbformat": 4,
 "nbformat_minor": 2
}
