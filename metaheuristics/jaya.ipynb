{
 "cells": [
  {
   "cell_type": "code",
   "execution_count": 1,
   "metadata": {},
   "outputs": [],
   "source": [
    "import math\n",
    "import numpy as np\n",
    "import random\n",
    "import pandas as pd"
   ]
  },
  {
   "cell_type": "code",
   "execution_count": 2,
   "metadata": {},
   "outputs": [],
   "source": [
    "def myobj(p1):\n",
    "    F=[]\n",
    "    for i in range (len(p1)):\n",
    "        x=p1.loc[i]\n",
    "        f=(((x[0]**2)+x[1]-11)**2)+((x[0]+x[1]**2)-7)**2\n",
    "        F.append(f)\n",
    "    return F"
   ]
  },
  {
   "cell_type": "code",
   "execution_count": 3,
   "metadata": {},
   "outputs": [],
   "source": [
    "pop_size = 25\n",
    "Gen = 1000\n",
    "lb=[-5,-5]\n",
    "ub=[5,5]"
   ]
  },
  {
   "cell_type": "code",
   "execution_count": 4,
   "metadata": {},
   "outputs": [],
   "source": [
    "def initialpopulation(mini,maxi,pop_size):\n",
    "    pop=[]        \n",
    "    for i in range(pop_size):\n",
    "      p=[]        \n",
    "      for a,b in zip(mini,maxi):\n",
    "         p.append(a + (b-a) * random.random())\n",
    "         pop.append(p)    \n",
    "      ini_pop=pd.DataFrame(pop)        \n",
    "    return ini_pop"
   ]
  },
  {
   "cell_type": "code",
   "execution_count": 7,
   "metadata": {},
   "outputs": [],
   "source": [
    "def updatepopulation(p1,dim):      \n",
    "    best_x=np.array(p1.loc[p1['f'].idxmin][0:dim])    \n",
    "    worst_x=np.array(p1.loc[p1['f'].idxmax][0:dim])\n",
    "    new_x=[]\n",
    "    for i in range(len(p1)):\n",
    "        old_x=np.array(p1.loc[i][0:dim])           \n",
    "        r1=np.random.random(dim)\n",
    "        r2=np.random.random(dim)\n",
    "        new_x.append(old_x+r1*(best_x-abs(old_x))-r2*(worst_x-abs(old_x)))    \n",
    "    new_p1=pd.DataFrame(new_x)    \n",
    "    return new_p1"
   ]
  },
  {
   "cell_type": "code",
   "execution_count": 8,
   "metadata": {},
   "outputs": [],
   "source": [
    "def greedyselector(p1,new_p1):    \n",
    "    for i in range(len(p1)):        \n",
    "        if p1.loc[i]['f']>new_p1.loc[i]['f']:                 \n",
    "            p1.loc[i]=new_p1.loc[i]    \n",
    "    return p1"
   ]
  },
  {
   "cell_type": "code",
   "execution_count": 17,
   "metadata": {},
   "outputs": [],
   "source": [
    "def trimr(new_p1,lb,ub):    \n",
    "    col=new_p1.columns.values    \n",
    "    for i in range(len(new_p1)):        \n",
    "        for j in range(len(col)):            \n",
    "            if new_p1.loc[i][j]>ub[j]:                \n",
    "                  new_p1.loc[i][j]=ub[j]            \n",
    "            elif new_p1.loc[i][j]<lb[j]:                          \n",
    "                  new_p1.loc[i][j]=lb[j]    \n",
    "    return new_p1"
   ]
  },
  {
   "cell_type": "code",
   "execution_count": 18,
   "metadata": {},
   "outputs": [],
   "source": [
    "def jaya(*argv):\n",
    "    pop_size, Gen, mini, maxi= argv\n",
    "    lb=np.array(mini)\n",
    "    ub=np.array(maxi)\n",
    "    p1=initialpopulation(lb,ub,pop_size)\n",
    "    p1['f']=myobj(p1)\n",
    "    print(p1)\n",
    "    dim=len(lb)\n",
    "    gen=0\n",
    "    best=[]\n",
    "    while (gen<Gen):\n",
    "        new_p1=updatepopulation(p1,dim)\n",
    "        new_p1=trimr(new_p1,lb,ub)\n",
    "        new_p1['f']=myobj(new_p1)\n",
    "        p1=greedyselector(p1,new_p1)\n",
    "        gen=gen+1\n",
    "    #     print(gen)\n",
    "        best=p1['f'].min()\n",
    "        xbest=p1.loc[p1['f'].idxmin()][0:dim].tolist()\n",
    "#     print('Best={}'.format(best))\n",
    "#     print('xbest={}'.format(xbest))\n",
    "    return best,xbest"
   ]
  },
  {
   "cell_type": "code",
   "execution_count": 19,
   "metadata": {},
   "outputs": [
    {
     "name": "stdout",
     "output_type": "stream",
     "text": [
      "           0         1           f\n",
      "0  -3.789893 -0.953281  103.445229\n",
      "1  -3.789893 -0.953281  103.445229\n",
      "2   4.352462  0.313941   74.689657\n",
      "3   4.352462  0.313941   74.689657\n",
      "4   3.132994  0.178510   15.720020\n",
      "5   3.132994  0.178510   15.720020\n",
      "6  -4.257679 -4.546687   95.298627\n",
      "7  -4.257679 -4.546687   95.298627\n",
      "8  -0.454429  3.222380   65.902593\n",
      "9  -0.454429  3.222380   65.902593\n",
      "10 -2.542178  1.219985   75.868726\n",
      "11 -2.542178  1.219985   75.868726\n",
      "12 -4.532618 -3.235360   40.941239\n",
      "13 -4.532618 -3.235360   40.941239\n",
      "14  1.734899  2.651399   31.616589\n",
      "15  1.734899  2.651399   31.616589\n",
      "16 -0.816553 -0.690166  175.394393\n",
      "17 -0.816553 -0.690166  175.394393\n",
      "18 -4.489890  2.224175  172.389161\n",
      "19 -4.489890  2.224175  172.389161\n",
      "20  3.193314 -2.267172   11.202288\n",
      "21  3.193314 -2.267172   11.202288\n",
      "22  1.850294 -4.926878  522.075637\n",
      "23  1.850294 -4.926878  522.075637\n",
      "24  2.244979  0.470447   50.690405\n",
      "25  2.244979  0.470447   50.690405\n",
      "26  1.337719 -1.516728  126.375432\n",
      "27  1.337719 -1.516728  126.375432\n",
      "28  4.954524  4.375944  613.769425\n",
      "29  4.954524  4.375944  613.769425\n",
      "30 -1.491333  3.784900   58.947510\n",
      "31 -1.491333  3.784900   58.947510\n",
      "32  4.603476  3.177460  238.027982\n",
      "33  4.603476  3.177460  238.027982\n",
      "34 -1.845761 -3.563646  139.326354\n",
      "35 -1.845761 -3.563646  139.326354\n",
      "36  2.619140 -1.230697   37.060853\n",
      "37  2.619140 -1.230697   37.060853\n",
      "38  2.557634  4.452561  236.634815\n",
      "39  2.557634  4.452561  236.634815\n",
      "40 -0.511530 -1.222098  179.268404\n",
      "41 -0.511530 -1.222098  179.268404\n",
      "42  0.120994 -1.700373  176.829888\n",
      "43  0.120994 -1.700373  176.829888\n",
      "44  0.044476  0.354006  159.946741\n",
      "45  0.044476  0.354006  159.946741\n",
      "46 -0.155895 -2.730861  187.960745\n",
      "47 -0.155895 -2.730861  187.960745\n",
      "48  1.202372  3.475070   76.376430\n",
      "49  1.202372  3.475070   76.376430\n"
     ]
    }
   ],
   "source": [
    "best,xbest = jaya(pop_size, Gen, lb, ub)"
   ]
  },
  {
   "cell_type": "code",
   "execution_count": null,
   "metadata": {},
   "outputs": [],
   "source": []
  }
 ],
 "metadata": {
  "kernelspec": {
   "display_name": "Python 3",
   "language": "python",
   "name": "python3"
  },
  "language_info": {
   "codemirror_mode": {
    "name": "ipython",
    "version": 3
   },
   "file_extension": ".py",
   "mimetype": "text/x-python",
   "name": "python",
   "nbconvert_exporter": "python",
   "pygments_lexer": "ipython3",
   "version": "3.6.5"
  }
 },
 "nbformat": 4,
 "nbformat_minor": 2
}
